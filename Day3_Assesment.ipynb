{
  "nbformat": 4,
  "nbformat_minor": 0,
  "metadata": {
    "colab": {
      "provenance": []
    },
    "kernelspec": {
      "name": "python3",
      "display_name": "Python 3"
    },
    "language_info": {
      "name": "python"
    }
  },
  "cells": [
    {
      "cell_type": "markdown",
      "source": [
        "# **FILE HANDING**"
      ],
      "metadata": {
        "id": "l3Wbyz9PGteA"
      }
    },
    {
      "cell_type": "code",
      "source": [
        "# 1 - Create and Write to a File\n",
        "# Write a Python program that creates a new text file named file1.txt and writes the following lines to it\n",
        "# Hello, World\n",
        "# This is a Python and Scripting Batch.\n",
        "# Learning Python from starting\n",
        "\n",
        "with open('1.txt', 'w') as file1:\n",
        "  file1.write('Hello, World\\n')\n",
        "  file1.write('This is a Python and Scripting Batch.\\n')\n",
        "  file1.write('Learning Python from starting')\n",
        "file1.close()\n"
      ],
      "metadata": {
        "id": "lKBUcBjaL5fR"
      },
      "execution_count": null,
      "outputs": []
    },
    {
      "cell_type": "code",
      "source": [
        "# 2 - Read from a File\n",
        "# Write a Python function that reads the content of file1.txt (created in the previous question) and prints each line to the console\n",
        "\n",
        "with open('1.txt', 'r') as file1:\n",
        "  content = file1.read()\n",
        "  print(content)\n",
        "file1.close()\n"
      ],
      "metadata": {
        "colab": {
          "base_uri": "https://localhost:8080/"
        },
        "id": "VKAeREANHFy6",
        "outputId": "0a97c6c8-d74e-4150-eb64-2748c7fd38c3"
      },
      "execution_count": null,
      "outputs": [
        {
          "output_type": "stream",
          "name": "stdout",
          "text": [
            "Hello, World\n",
            "This is a Python and Scripting Batch.\n",
            "Learning Python from starting\n",
            "This is the appending line from the previous line.\n",
            "This is the appending line from the previous line.\n",
            "This is the appending line from the previous line.\n",
            "This is the appending line from the previous line.\n"
          ]
        }
      ]
    },
    {
      "cell_type": "code",
      "source": [
        "# 3 - Append to a File\n",
        "# Modify the previous program to append the following line to file1.txt\n",
        "# -> This is the appending line from the previous line.\n",
        "\n",
        "with open('1.txt', 'a+') as file1:\n",
        "  file1.write('\\nThis is the appending line from the previous line.')\n",
        "  content = file1.read()\n",
        "  print(content)\n",
        "file1.close()"
      ],
      "metadata": {
        "colab": {
          "base_uri": "https://localhost:8080/"
        },
        "id": "kr5XjbPlHh6X",
        "outputId": "ec8a82a2-15e7-4f1a-9430-ce2ef010f5c2"
      },
      "execution_count": null,
      "outputs": [
        {
          "output_type": "stream",
          "name": "stdout",
          "text": [
            "\n"
          ]
        }
      ]
    },
    {
      "cell_type": "code",
      "source": [
        "#  4 - Count Lines in a File\n",
        "# Write a function that takes a filename as an argument and returns the number of lines in that file. Use this function to count the lines in file1.txt.\n",
        "\n",
        "def count_lines(filename):\n",
        "  with open(filename, 'r') as file:\n",
        "    lines = file.readlines()\n",
        "    return len(lines)\n",
        "\n",
        "line_count = count_lines('1.txt')\n",
        "print(\"Number of lines in 1.txt:\", line_count)"
      ],
      "metadata": {
        "colab": {
          "base_uri": "https://localhost:8080/"
        },
        "id": "SYtWh6bhHqm-",
        "outputId": "950a9d9b-5099-4c14-bb31-bef701a8a54c"
      },
      "execution_count": null,
      "outputs": [
        {
          "output_type": "stream",
          "name": "stdout",
          "text": [
            "Number of lines in 1.txt: 4\n"
          ]
        }
      ]
    },
    {
      "cell_type": "code",
      "source": [
        "# 5 - Read File Line by Line\n",
        "# Write a Python program that reads file1.txt line by line and prints each line along with its line number.\n",
        "\n",
        "with open('1.txt', 'r') as file:\n",
        "  lines = file.readlines()\n",
        "  for i, line in enumerate(lines, start=1):\n",
        "    print(f\"Line {i}: {line.strip()}\")\n",
        "file.close()\n"
      ],
      "metadata": {
        "colab": {
          "base_uri": "https://localhost:8080/"
        },
        "id": "M7NX7y1wIS_-",
        "outputId": "f278fdab-3281-4a33-e27f-825e814c44ff"
      },
      "execution_count": null,
      "outputs": [
        {
          "output_type": "stream",
          "name": "stdout",
          "text": [
            "Line 1: Hello, World\n",
            "Line 2: This is a Python and Scripting Batch.\n",
            "Line 3: Learning Python from starting.\n",
            "Line 4: This is the appending line from the previous line.\n"
          ]
        }
      ]
    },
    {
      "cell_type": "code",
      "source": [
        "# 6 - Copy Content from One File to Another\n",
        "# Write a Python program that copies the content of file1.txt to a new file named copy_file1.txt.\n",
        "\n",
        "with open('1.txt', 'r') as first:\n",
        "  data = first.read()\n",
        "\n",
        "  with open('copy_file1.txt', 'w') as copy:\n",
        "    copy.write(data)\n",
        "  copy.close()\n",
        "first.close()"
      ],
      "metadata": {
        "id": "huRhL6huInqs"
      },
      "execution_count": null,
      "outputs": []
    },
    {
      "cell_type": "code",
      "source": [
        "# 7 - File Existence Check\n",
        "# Write a function that checks if a file named file1.txt exists. If it does, print \"File exists.\" Otherwise, print \"File does not exist.\"\n",
        "\n",
        "import os\n",
        "\n",
        "if os.path.exists('1.txt'):\n",
        "  print('File exists!')\n",
        "else:\n",
        "  print('File does not exists!')\n"
      ],
      "metadata": {
        "colab": {
          "base_uri": "https://localhost:8080/"
        },
        "id": "9_cBc9ARJQMC",
        "outputId": "5861c0d1-6227-466c-9a06-30210a492682"
      },
      "execution_count": null,
      "outputs": [
        {
          "output_type": "stream",
          "name": "stdout",
          "text": [
            "File does not exists!\n"
          ]
        }
      ]
    },
    {
      "cell_type": "code",
      "source": [
        "# 8 - Rename a File\n",
        "# Write a Python program that renames file1.txt to renamed_file1.txt.\n",
        "\n",
        "import os\n",
        "\n",
        "if os.path.exists('1.txt'):\n",
        "  os.rename('1.txt', 'renamed_1.txt')\n",
        "  print(\"File Renamed Successfully!\")\n",
        "else:\n",
        "  print('File does not exists!')"
      ],
      "metadata": {
        "colab": {
          "base_uri": "https://localhost:8080/"
        },
        "id": "sQhtwazwJsT8",
        "outputId": "79f01ae1-c4dc-4db3-b26c-1b9c0157d570"
      },
      "execution_count": null,
      "outputs": [
        {
          "output_type": "stream",
          "name": "stdout",
          "text": [
            "File Renamed Successfully!\n"
          ]
        }
      ]
    },
    {
      "cell_type": "code",
      "source": [
        "# 9 - Delete a File\n",
        "# # Write a Python program that deletes renamed_file1.txt if it exists. Use exception handling to manage any errors that may occur during the deletion process.\n",
        "\n",
        "import os\n",
        "\n",
        "try:\n",
        "  os.remove('renamed_1.txt')\n",
        "  print(\"renamed_1.txt deleted successfully\")\n",
        "except FileNotFoundError:\n",
        "  print(\"renamed_1.txt not found\")\n",
        "except OSError as e:\n",
        "  print(f\"Error deleting renamed_1.txt: {e}\")"
      ],
      "metadata": {
        "colab": {
          "base_uri": "https://localhost:8080/"
        },
        "id": "gxpNZ83GKUEd",
        "outputId": "4efe8904-fcfc-4bf1-9ec3-102eb9cda9ef"
      },
      "execution_count": null,
      "outputs": [
        {
          "output_type": "stream",
          "name": "stdout",
          "text": [
            "renamed_1.txt deleted successfully\n"
          ]
        }
      ]
    },
    {
      "cell_type": "code",
      "source": [
        "# 10 - Read a File Until EOF\n",
        "# Write a Python program that reads from file1.txt until the end of the file (EOF) and prints the content.\n",
        "\n",
        "def read_file_until_eof(filename):\n",
        "    try:\n",
        "        with open(filename, 'r') as file:\n",
        "            for line in file:\n",
        "                print(line, end=\"\")\n",
        "    except FileNotFoundError:\n",
        "        print(f\"Error: File '{filename}' not found.\")\n",
        "\n",
        "read_file_until_eof('copy_file1.txt')"
      ],
      "metadata": {
        "colab": {
          "base_uri": "https://localhost:8080/"
        },
        "id": "szh96Gy4K-1W",
        "outputId": "fd884206-1468-4f41-9198-748aa95be544"
      },
      "execution_count": null,
      "outputs": [
        {
          "output_type": "stream",
          "name": "stdout",
          "text": [
            "Hello, World\n",
            "This is a Python and Scripting Batch.\n",
            "Learning Python from starting.\n",
            "This is the appending line from the previous line."
          ]
        }
      ]
    },
    {
      "cell_type": "code",
      "source": [
        "# 11 - Write a List to a File\n",
        "# Write a Python function that takes a list of strings and writes each string to a new file named list_output.txt, with each string on a new line.\n",
        "\n",
        "def list_to_file(list_of_string):\n",
        "    with open('list_output.txt', 'a+') as lf:\n",
        "        for line in list_of_string:\n",
        "            lf.write(line + '\\n')\n",
        "\n",
        "stringList = ['Line 1 added', 'Line 2 added', 'Line 3 added', 'Line 4 added']\n",
        "list_to_file(stringList)"
      ],
      "metadata": {
        "id": "3mxxtbTsLo1B"
      },
      "execution_count": null,
      "outputs": []
    },
    {
      "cell_type": "code",
      "source": [
        "# 12 - Read a File into a List\n",
        "# Write a Python function that reads list_output.txt and returns a list of strings, where each string corresponds to a line in the file.\n",
        "\n",
        "def file_to_list(file):\n",
        "    ans = []\n",
        "    with open(file, 'r') as fl:\n",
        "        lines = fl.readlines()\n",
        "\n",
        "        for line in lines:\n",
        "            ans.append(line)\n",
        "    return ans\n",
        "\n",
        "ans = file_to_list('list_output.txt')\n",
        "ans"
      ],
      "metadata": {
        "colab": {
          "base_uri": "https://localhost:8080/"
        },
        "id": "Z-45LA6uNklc",
        "outputId": "270914e0-5faf-47f3-8511-a239e1696585"
      },
      "execution_count": null,
      "outputs": [
        {
          "output_type": "execute_result",
          "data": {
            "text/plain": [
              "['Line 1 added\\n', 'Line 2 added\\n', 'Line 3 added\\n', 'Line 4 added\\n']"
            ]
          },
          "metadata": {},
          "execution_count": 26
        }
      ]
    },
    {
      "cell_type": "markdown",
      "source": [],
      "metadata": {
        "id": "7a4ODzJUPUAg"
      }
    },
    {
      "cell_type": "markdown",
      "source": [
        "# **CONTROL STATEMENTS**"
      ],
      "metadata": {
        "id": "j9JZlEYkPXfZ"
      }
    },
    {
      "cell_type": "code",
      "source": [
        "# 1 - Write a Python program that takes a student's score as input and determines the corresponding letter grade based on the following grading scale\n",
        "# A: 90 - 100\n",
        "# B: 80 - 89\n",
        "# C: 70 - 79\n",
        "# D: 60 - 69\n",
        "# F: Below 60\n",
        "# The program should also handle invalid input\n",
        "# Should have  scores less than 0 or greater than 100 or else displaying an appropriate error message.\n",
        "\n",
        "def evaluate():\n",
        "    marks = int(input(\"Enter Marks:\"))\n",
        "    grade = ''\n",
        "\n",
        "    if 0 <= marks <= 100:\n",
        "        if 90 <= marks <= 100:\n",
        "            grade = 'A'\n",
        "        elif 80 <= marks <= 89:\n",
        "            grade = 'B'\n",
        "        elif 70 <= marks <= 79:\n",
        "            grade = 'C'\n",
        "        elif 60 <= marks <= 69:\n",
        "            grade = 'D'\n",
        "        else:\n",
        "            grade = 'E'\n",
        "    else:\n",
        "        grade = 'Invalid Input'\n",
        "\n",
        "    print('Grade:', grade)\n",
        "\n",
        "evaluate()"
      ],
      "metadata": {
        "colab": {
          "base_uri": "https://localhost:8080/"
        },
        "id": "FMlFQbBWPi3g",
        "outputId": "112d9c31-980f-45df-8a2b-493b12258b61"
      },
      "execution_count": null,
      "outputs": [
        {
          "output_type": "stream",
          "name": "stdout",
          "text": [
            "Enter Marks:90\n",
            "Grade: A\n"
          ]
        }
      ]
    },
    {
      "cell_type": "code",
      "source": [
        "# 2 - Write a Python program that checks whether a given year is a leap year or not.\n",
        "\n",
        "def is_leap_year(year):\n",
        "    if (year % 4 == 0 and year % 100 != 0) or year % 400 == 0:\n",
        "        return True\n",
        "    else:\n",
        "        return False\n",
        "\n",
        "year = int(input(\"Year: \"))\n",
        "\n",
        "if (is_leap_year(year)):\n",
        "    print(year, \"is a Leap Year\")\n",
        "else:\n",
        "    print(year, \"is not a Leap Year\")"
      ],
      "metadata": {
        "colab": {
          "base_uri": "https://localhost:8080/"
        },
        "id": "5pBxW3VDZSur",
        "outputId": "2e3b09a5-6e1b-435a-81b3-0fe3d0a06077"
      },
      "execution_count": null,
      "outputs": [
        {
          "output_type": "stream",
          "name": "stdout",
          "text": [
            "Year: 2019\n",
            "2019 is not a Leap Year\n"
          ]
        }
      ]
    },
    {
      "cell_type": "code",
      "source": [
        "# 3 - Write a Python program that calculates the prime number from 1 to the given ‘N’ number.\n",
        "\n",
        "def calculate_primes(n):\n",
        "    primes = []\n",
        "    for num in range(2, n + 1):\n",
        "        is_prime = True\n",
        "        for i in range(2, int(num**0.5) + 1):\n",
        "            if num % i == 0:\n",
        "                is_prime = False\n",
        "                break\n",
        "        if is_prime:\n",
        "            primes.append(num)\n",
        "    return primes\n",
        "\n",
        "n = 30\n",
        "prime_numbers = calculate_primes(n)\n",
        "print(f\"Prime numbers from 1 to {n}: {prime_numbers}\")"
      ],
      "metadata": {
        "colab": {
          "base_uri": "https://localhost:8080/"
        },
        "id": "EG-3Mt0VaXJ3",
        "outputId": "9f3889cb-2436-4afd-a41d-2a4a0822475b"
      },
      "execution_count": null,
      "outputs": [
        {
          "output_type": "stream",
          "name": "stdout",
          "text": [
            "Prime numbers from 1 to 30: [2, 3, 5, 7, 11, 13, 17, 19, 23, 29]\n"
          ]
        }
      ]
    },
    {
      "cell_type": "code",
      "source": [
        "# 4 - Write a Python program that prints the multiplication table for numbers from 1 to 10. The output should be formatted in GRID.\n",
        "\n",
        "def print_multiplication_table():\n",
        "    max_width = len(str(10 * 10))\n",
        "\n",
        "    print(\"    \", end=\"\")\n",
        "    for i in range(1, 11):\n",
        "        print(f\"{i:{max_width}} \", end=\"\")\n",
        "    print()\n",
        "    print(\"   +\" + \"---+\" * 10)\n",
        "\n",
        "    for i in range(1, 11):\n",
        "        print(f\"{i:2} |\", end=\"\")\n",
        "        for j in range(1, 11):\n",
        "            print(f\"{i * j:{max_width}} \", end=\"\")\n",
        "        print()\n",
        "\n",
        "print_multiplication_table()"
      ],
      "metadata": {
        "colab": {
          "base_uri": "https://localhost:8080/"
        },
        "id": "jV4f9TDuarCE",
        "outputId": "6a4412b7-295e-47d7-ec17-3ebf708ae1a0"
      },
      "execution_count": null,
      "outputs": [
        {
          "output_type": "stream",
          "name": "stdout",
          "text": [
            "      1   2   3   4   5   6   7   8   9  10 \n",
            "   +---+---+---+---+---+---+---+---+---+---+\n",
            " 1 |  1   2   3   4   5   6   7   8   9  10 \n",
            " 2 |  2   4   6   8  10  12  14  16  18  20 \n",
            " 3 |  3   6   9  12  15  18  21  24  27  30 \n",
            " 4 |  4   8  12  16  20  24  28  32  36  40 \n",
            " 5 |  5  10  15  20  25  30  35  40  45  50 \n",
            " 6 |  6  12  18  24  30  36  42  48  54  60 \n",
            " 7 |  7  14  21  28  35  42  49  56  63  70 \n",
            " 8 |  8  16  24  32  40  48  56  64  72  80 \n",
            " 9 |  9  18  27  36  45  54  63  72  81  90 \n",
            "10 | 10  20  30  40  50  60  70  80  90 100 \n"
          ]
        }
      ]
    },
    {
      "cell_type": "code",
      "source": [
        "# 5 - -> Write a program to read file1.txt and split files into two files i.e file1.txt into split_1() and split_2().\n",
        "\n",
        "def split_file(input_file, output_file1, output_file2):\n",
        "    try:\n",
        "        with open(input_file, 'r') as infile:\n",
        "            lines = infile.readlines()\n",
        "            midpoint = len(lines) // 2\n",
        "\n",
        "            with open(output_file1, 'w') as outfile1:\n",
        "                outfile1.writelines(lines[:midpoint])\n",
        "\n",
        "            with open(output_file2, 'w') as outfile2:\n",
        "                outfile2.writelines(lines[midpoint:])\n",
        "\n",
        "        print(f\"File '{input_file}' split into '{output_file1}' and '{output_file2}' successfully.\")\n",
        "\n",
        "    except FileNotFoundError:\n",
        "        print(f\"Error: Input file '{input_file}' not found.\")\n",
        "\n",
        "    except Exception as e:\n",
        "        print(f\"An error occurred: {e}\")\n",
        "\n",
        "split_file('copy_file1.txt', 'split_1.txt', 'split_2.txt')"
      ],
      "metadata": {
        "colab": {
          "base_uri": "https://localhost:8080/"
        },
        "id": "RufwhSJ1dTU2",
        "outputId": "87e514a1-e9c9-4103-e8c5-ab91c77dede9"
      },
      "execution_count": null,
      "outputs": [
        {
          "output_type": "stream",
          "name": "stdout",
          "text": [
            "File 'copy_file1.txt' split into 'split_1.txt' and 'split_2.txt' successfully.\n"
          ]
        }
      ]
    }
  ]
}