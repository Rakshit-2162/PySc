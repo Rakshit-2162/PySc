{
  "nbformat": 4,
  "nbformat_minor": 0,
  "metadata": {
    "colab": {
      "provenance": []
    },
    "kernelspec": {
      "name": "python3",
      "display_name": "Python 3"
    },
    "language_info": {
      "name": "python"
    }
  },
  "cells": [
    {
      "cell_type": "markdown",
      "source": [
        "# **FUNCTIONS**"
      ],
      "metadata": {
        "id": "-xvc81R9NYzf"
      }
    },
    {
      "cell_type": "code",
      "source": [
        "# 1 - Write a function called calculate_area that takes two parameters: length and width.\n",
        "# The function should return the area of a rectangle.\n",
        "# Demonstrate how to call this function with both positional and keyword arguments.\n",
        "\n",
        "def calculate_area(length, width):\n",
        "  return length * width\n",
        "\n",
        "# Calling the function with positional arguments\n",
        "area1 = calculate_area(5, 10)\n",
        "print(f\"Area (positional arguments): {area1}\")\n",
        "\n",
        "# Calling the function with keyword arguments\n",
        "area2 = calculate_area(width=5, length=10)\n",
        "print(f\"Area (keyword arguments): {area2}\")"
      ],
      "metadata": {
        "colab": {
          "base_uri": "https://localhost:8080/"
        },
        "id": "Y222GK4bOXck",
        "outputId": "fec6de70-0905-4b42-9f5b-f58771473cf2"
      },
      "execution_count": 1,
      "outputs": [
        {
          "output_type": "stream",
          "name": "stdout",
          "text": [
            "Area (positional arguments): 50\n",
            "Area (keyword arguments): 50\n"
          ]
        }
      ]
    },
    {
      "cell_type": "code",
      "source": [
        "# 2 - Create a function update_value that takes an integer and a list as parameters.\n",
        "# The function should attempt to update the integer and append a new value to the list.\n",
        "# Print the values before and after calling the function to demonstrate the difference between pass by value and pass by reference.\n",
        "\n",
        "def update_value(num, my_list):\n",
        "    print(\"Before function call:\")\n",
        "    print(\"Number:\", num)\n",
        "    print(\"List:\", my_list)\n",
        "\n",
        "    num = 20\n",
        "    my_list.append(5)\n",
        "\n",
        "    print(\"\\nAfter function call:\")\n",
        "    print(\"Number:\", num)\n",
        "    print(\"List:\", my_list)\n",
        "\n",
        "my_number = 10\n",
        "my_list = [1, 2, 3]\n",
        "\n",
        "update_value(my_number, my_list)\n",
        "\n",
        "print(\"\\nOutside function:\")\n",
        "print(\"Number:\", my_number) # The original value remains same\n",
        "print(\"List:\", my_list) # The list has been modified"
      ],
      "metadata": {
        "colab": {
          "base_uri": "https://localhost:8080/"
        },
        "id": "jL8zff1oOYXr",
        "outputId": "1e56237c-c992-4f53-db0e-abfa9b50819b"
      },
      "execution_count": 2,
      "outputs": [
        {
          "output_type": "stream",
          "name": "stdout",
          "text": [
            "Before function call:\n",
            "Number: 10\n",
            "List: [1, 2, 3]\n",
            "\n",
            "After function call:\n",
            "Number: 20\n",
            "List: [1, 2, 3, 5]\n",
            "\n",
            "Outside function:\n",
            "Number: 10\n",
            "List: [1, 2, 3, 5]\n"
          ]
        }
      ]
    },
    {
      "cell_type": "code",
      "source": [
        "# 3 - Write a recursive function sum_of_digits(n) that takes a non-negative integer n and returns the sum of its digits. For example, sum_of_digits(123) should return 6.\n",
        "\n",
        "def sum_of_digits(n):\n",
        "    if n < 10:\n",
        "        return n\n",
        "    else:\n",
        "        return n % 10 + sum_of_digits(n // 10)\n",
        "\n",
        "n = int(input(\"Enter a non-negative integer: \"))\n",
        "if n < 0:\n",
        "    print(\"Please enter a non-negative integer.\")\n",
        "else:\n",
        "    result = sum_of_digits(n)\n",
        "    print(f\"The sum of the digits of {n} is {result}.\")"
      ],
      "metadata": {
        "colab": {
          "base_uri": "https://localhost:8080/"
        },
        "id": "51fgLRCmOnwT",
        "outputId": "57c8f6d0-3683-45a6-f582-a0a15afb4e04"
      },
      "execution_count": 6,
      "outputs": [
        {
          "output_type": "stream",
          "name": "stdout",
          "text": [
            "Enter a non-negative integer: -98\n",
            "Please enter a non-negative integer.\n"
          ]
        }
      ]
    },
    {
      "cell_type": "code",
      "source": [
        "# 4 - Define a function greeting that takes three parameters: first_name, last_name, and greeting Call this function using keyword arguments to customize the greeting.\n",
        "\n",
        "def greeting(first_name, last_name, greeting):\n",
        "    print(f\"{greeting},\\n{first_name} {last_name}!\")\n",
        "\n",
        "greeting(\"Rakshit\", \"Vaja\", greeting=\"Hello\")"
      ],
      "metadata": {
        "colab": {
          "base_uri": "https://localhost:8080/"
        },
        "id": "jjdsOTuXPXYr",
        "outputId": "072a17cb-3680-45ba-df3d-f7863dba470a"
      },
      "execution_count": 10,
      "outputs": [
        {
          "output_type": "stream",
          "name": "stdout",
          "text": [
            "Hello,\n",
            "Rakshit Vaja!\n"
          ]
        }
      ]
    },
    {
      "cell_type": "code",
      "source": [
        "# 5 - Create a function filter_odd_numbers that takes a list of integers and returns a new list containing only the odd numbers. Use control statements (like if and for) in your implementation.\n",
        "\n",
        "def odd_numbers(nums):\n",
        "    odd_list = []\n",
        "    for num in nums:\n",
        "        if num % 2 != 0:\n",
        "            odd_list.append(num)\n",
        "    return odd_list\n",
        "\n",
        "nums = [1, 2, 3, 4, 5, 6, 7, 8, 9, 10]\n",
        "print(odd_numbers(nums))"
      ],
      "metadata": {
        "colab": {
          "base_uri": "https://localhost:8080/"
        },
        "id": "IqalefxBP1Xk",
        "outputId": "27cf58bf-8962-4acf-f37e-92c112adcd8c"
      },
      "execution_count": 11,
      "outputs": [
        {
          "output_type": "stream",
          "name": "stdout",
          "text": [
            "[1, 3, 5, 7, 9]\n"
          ]
        }
      ]
    },
    {
      "cell_type": "code",
      "source": [
        "# 6 - Write a function append_to_list that takes a list and a value as parameters. The function should append the value to the list. Show how the original list is modified after calling the function.\n",
        "\n",
        "def append_to_list(my_list, value):\n",
        "    my_list.append(value)\n",
        "\n",
        "my_list = [1, 2, 3]\n",
        "print(f'Original List: {my_list}')\n",
        "\n",
        "append_to_list(my_list, 4)\n",
        "print(f'Modified List: {my_list}')"
      ],
      "metadata": {
        "colab": {
          "base_uri": "https://localhost:8080/"
        },
        "id": "ek58UbWFQN3A",
        "outputId": "17951228-8bb5-48c8-a819-082a1a498a10"
      },
      "execution_count": 13,
      "outputs": [
        {
          "output_type": "stream",
          "name": "stdout",
          "text": [
            "Original List: [1, 2, 3]\n",
            "Modified List: [1, 2, 3, 4]\n"
          ]
        }
      ]
    },
    {
      "cell_type": "code",
      "source": [
        "# 7 - Implement a recursive function countdown(n) that prints numbers from n down to 1. If n is less than or equal to 0, the function should print Done!.\n",
        "\n",
        "def countdown(n):\n",
        "    if n <= 0:\n",
        "        print('Done!')\n",
        "    else:\n",
        "        print(n)\n",
        "        return countdown(n - 1)\n",
        "\n",
        "countdown(10)"
      ],
      "metadata": {
        "colab": {
          "base_uri": "https://localhost:8080/"
        },
        "id": "qDlcQ_E-QY2P",
        "outputId": "3e3ddb07-7b53-4624-e8e3-cee8fbf49a6c"
      },
      "execution_count": 17,
      "outputs": [
        {
          "output_type": "stream",
          "name": "stdout",
          "text": [
            "10\n",
            "9\n",
            "8\n",
            "7\n",
            "6\n",
            "5\n",
            "4\n",
            "3\n",
            "2\n",
            "1\n",
            "Done!\n"
          ]
        }
      ]
    },
    {
      "cell_type": "code",
      "source": [
        "# 8 - Create a function power that takes two parameters: base and exponent with a default value of 2.\n",
        "# The function should return the result of raising the base to the exponent.\n",
        "# Demonstrate calling this function with and without the exponent argument.\n",
        "\n",
        "def power(base, exponent=2):\n",
        "    return base ** exponent\n",
        "\n",
        "print('Calling fun with exponent:', power(2, 3))\n",
        "print('Calling fun without exponent:', power(2))"
      ],
      "metadata": {
        "colab": {
          "base_uri": "https://localhost:8080/"
        },
        "id": "LpCqPYVlRBCI",
        "outputId": "6eafe4d3-5906-4262-fde2-1ba333b21273"
      },
      "execution_count": 19,
      "outputs": [
        {
          "output_type": "stream",
          "name": "stdout",
          "text": [
            "Calling fun with exponent: 8\n",
            "Calling fun without exponent: 4\n"
          ]
        }
      ]
    },
    {
      "cell_type": "code",
      "source": [
        "# 9 - Write a function perform_operation that takes two numbers and a string representing an operation add, subtract, multiply, divide.\n",
        "# Use control statements to perform the operation and return the result.\n",
        "# Show how to call this function using both positional and keyword arguments.\n",
        "\n",
        "def perform_operation(num1, num2, operation):\n",
        "    if operation == 'add':\n",
        "        return num1 + num2\n",
        "    elif operation == 'sub':\n",
        "        return num1 - num2\n",
        "    elif operation == 'mul':\n",
        "        return num1 * num2\n",
        "    elif operation == 'div':\n",
        "        if num2 != 0:\n",
        "            return num1 / num2\n",
        "        else:\n",
        "            return \"Cannot divide by zero\"\n",
        "\n",
        "a = int(input(\"Enter first number: \"))\n",
        "b = int(input(\"Enter second number: \"))\n",
        "operation = input(\"Enter operation (add, sub, mul, div): \")\n",
        "\n",
        "print('\\nCalling function using positional arguments:\\nAns =', perform_operation(a, b, operation))\n",
        "print('\\nCalling function using keyword arguments:\\nAns =', perform_operation(operation=operation, num2=b, num1=a))"
      ],
      "metadata": {
        "colab": {
          "base_uri": "https://localhost:8080/"
        },
        "id": "1xYR4c58S95_",
        "outputId": "c6bbecc3-d94a-4c9d-9032-e3e332d4aac6"
      },
      "execution_count": 26,
      "outputs": [
        {
          "output_type": "stream",
          "name": "stdout",
          "text": [
            "Enter first number: 30\n",
            "Enter second number: 33\n",
            "Enter operation (add, sub, mul, div): div\n",
            "\n",
            "Calling function using positional arguments:\n",
            "Ans = 0.9090909090909091\n",
            "\n",
            "Calling function using keyword arguments:\n",
            "Ans = 0.9090909090909091\n"
          ]
        }
      ]
    }
  ]
}